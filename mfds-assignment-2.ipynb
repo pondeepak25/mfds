{
 "cells": [
  {
   "cell_type": "code",
   "execution_count": 1,
   "id": "c8b5ff2c",
   "metadata": {},
   "outputs": [
    {
     "name": "stdout",
     "output_type": "stream",
     "text": [
      "a1= [0.66924471 0.20402516 0.13733326 0.51970681 0.69243519]\n",
      "a2= [0.27668766 0.84541443 0.13544169 0.19575999 0.9565931 ]\n",
      "a3= [0.08987573 0.29017479 0.75290548 0.56147143 0.68117025]\n",
      "a4= [0.85979412 0.86985592 0.75507687 0.7945749  0.03448617]\n",
      "a5= [0.24270214 0.51089995 0.81698841 0.71547981 0.58488683]\n",
      "A= [[0.66924471 0.20402516 0.13733326 0.51970681 0.69243519]\n",
      " [0.27668766 0.84541443 0.13544169 0.19575999 0.9565931 ]\n",
      " [0.08987573 0.29017479 0.75290548 0.56147143 0.68117025]\n",
      " [0.85979412 0.86985592 0.75507687 0.7945749  0.03448617]\n",
      " [0.24270214 0.51089995 0.81698841 0.71547981 0.58488683]]\n",
      "The Determinant Of An Random Array: 0.050531305226192584\n",
      "The vectors are linearly independent\n"
     ]
    }
   ],
   "source": [
    "import numpy as np \n",
    "a1 = np.random.rand(5) \n",
    "print(\"a1=\",a1)\n",
    "a2 = np.random.rand(5) \n",
    "print(\"a2=\",a2)\n",
    "a3 = np.random.rand(5) \n",
    "print(\"a3=\",a3)\n",
    "a4 = np.random.rand(5) \n",
    "print(\"a4=\",a4)\n",
    "a5 = np.random.rand(5) \n",
    "print(\"a5=\",a5)\n",
    "A = np.array([a1, a2, a3, a4, a5]) \n",
    "print(\"A=\",A)\n",
    "print(\"The Determinant Of An Random Array:\",np.linalg.det(A))\n",
    "if np.linalg.det(A) ==0.:\n",
    "    print(\"The vectors are linearly dependent\")\n",
    "else:\n",
    "    print(\"The vectors are linearly independent\")"
   ]
  },
  {
   "cell_type": "code",
   "execution_count": 17,
   "id": "0bf134a7",
   "metadata": {},
   "outputs": [
    {
     "name": "stdout",
     "output_type": "stream",
     "text": [
      "Q= [[ 0.59331655  0.68119063  0.00491092  0.23769026  0.35697903]\n",
      " [ 0.08231364 -0.21356995  0.9490026   0.14526566  0.1609481 ]\n",
      " [-0.62983295  0.49838812  0.16812839 -0.42817944  0.3785696 ]\n",
      " [-0.47464382  0.27271557  0.02516163  0.79471792 -0.26101681]\n",
      " [ 0.13864932  0.40939309  0.26546126 -0.32785213 -0.79700499]]\n"
     ]
    }
   ],
   "source": [
    "def gram_schmidt(A):    \n",
    "    Q = np.zeros_like(A)    \n",
    "    c = np.zeros_like(A[0])   \n",
    "    \n",
    "    for i in range(len(A)):        \n",
    "        c = A[i]        \n",
    "        for j in range(i):            \n",
    "            c -= np.dot(Q[j],A[i]) * Q[j]        \n",
    "        Q[i] = c / np.linalg.norm(c)    \n",
    "    return Q\n",
    "Q = gram_schmidt(A)\n",
    "print(\"Q=\",Q)"
   ]
  },
  {
   "cell_type": "code",
   "execution_count": 9,
   "id": "b80276cc",
   "metadata": {},
   "outputs": [
    {
     "name": "stdout",
     "output_type": "stream",
     "text": [
      "[[1 0 0 0 0]\n",
      " [0 1 0 0 0]\n",
      " [0 0 1 0 0]\n",
      " [0 0 0 1 0]\n",
      " [0 0 0 0 1]]\n"
     ]
    }
   ],
   "source": [
    "import numpy as np\n",
    "Q = np.array([[1,0,0,0,0],\n",
    "             [0,1,0,0,0],\n",
    "             [0,0,1,0,0],\n",
    "             [0,0,0,1,0],\n",
    "             [0,0,0,0,1]])\n",
    "B = Q.T.dot(Q)\n",
    "print(B)"
   ]
  },
  {
   "cell_type": "code",
   "execution_count": 3,
   "id": "67e39a12",
   "metadata": {},
   "outputs": [
    {
     "name": "stdout",
     "output_type": "stream",
     "text": [
      "a1= [0.41832174 0.14131346 0.27772447 0.90832855 0.50727863]\n",
      "a2= [0.8981211  0.14728843 0.03866329 0.79997227 0.37525502]\n",
      "a3= [0.5489513  0.49333354 0.30270814 0.58553388 0.67370314]\n",
      "a4= [0.04314529 0.59153545 0.57156017 0.9128977  0.60466674]\n",
      "a5= [0.38759024 0.38636652 0.46051527 0.86333727 0.77065919]\n",
      "Q= [[0.41832174 0.14131346 0.27772447 0.90832855 0.50727863]\n",
      " [0.8981211  0.14728843 0.03866329 0.79997227 0.37525502]\n",
      " [0.5489513  0.49333354 0.30270814 0.58553388 0.67370314]\n",
      " [0.04314529 0.59153545 0.57156017 0.9128977  0.60466674]\n",
      " [0.38759024 0.38636652 0.46051527 0.86333727 0.77065919]]\n",
      "B= [[1.43504983 0.63748729 0.52022588 1.79388348 1.24384885]\n",
      " [0.63748729 0.78423464 0.71030273 1.40862519 1.11475511]\n",
      " [0.52022588 0.71030273 0.70901329 1.37979646 1.05983146]\n",
      " [1.79388348 1.40862519 1.37979646 3.38659978 2.37278297]\n",
      " [1.24384885 1.11475511 1.05983146 2.37278297 1.81156132]]\n",
      "IIB= [[  426.41465026  -256.3283698   1136.87257182  -265.15358431\n",
      "   -452.8653875 ]\n",
      " [ -256.3283698    173.07210663  -695.51129284   162.53355265\n",
      "    263.51226965]\n",
      " [ 1136.87257182  -695.51129284  3050.03267656  -708.59735925\n",
      "  -1208.87197319]\n",
      " [ -265.15358431   162.53355265  -708.59735925   168.99629339\n",
      "    275.24771754]\n",
      " [ -452.8653875    263.51226965 -1208.87197319   275.24771754\n",
      "    496.05932872]]\n",
      "The Frobeneus Norm= 4262.115509082526\n"
     ]
    }
   ],
   "source": [
    "import numpy as np\n",
    "a1 = np.random.rand(5) \n",
    "print(\"a1=\",a1)\n",
    "a2 = np.random.rand(5) \n",
    "print(\"a2=\",a2)\n",
    "a3 = np.random.rand(5) \n",
    "print(\"a3=\",a3)\n",
    "a4 = np.random.rand(5) \n",
    "print(\"a4=\",a4)\n",
    "a5 = np.random.rand(5) \n",
    "print(\"a5=\",a5)\n",
    "Q = np.array([a1, a2, a3, a4, a5])\n",
    "print(\"Q=\",Q)\n",
    "B = Q.T.dot(Q)\n",
    "print(\"B=\",B)\n",
    "IIB = np.linalg.inv(B)\n",
    "print(\"IIB=\",IIB)\n",
    "print(\"The Frobeneus Norm=\",np.linalg.norm(IIB - 15*np.identity(5), 'fro'))"
   ]
  },
  {
   "cell_type": "code",
   "execution_count": null,
   "id": "91b27608",
   "metadata": {},
   "outputs": [],
   "source": []
  }
 ],
 "metadata": {
  "kernelspec": {
   "display_name": "Python 3 (ipykernel)",
   "language": "python",
   "name": "python3"
  },
  "language_info": {
   "codemirror_mode": {
    "name": "ipython",
    "version": 3
   },
   "file_extension": ".py",
   "mimetype": "text/x-python",
   "name": "python",
   "nbconvert_exporter": "python",
   "pygments_lexer": "ipython3",
   "version": "3.9.12"
  }
 },
 "nbformat": 4,
 "nbformat_minor": 5
}
